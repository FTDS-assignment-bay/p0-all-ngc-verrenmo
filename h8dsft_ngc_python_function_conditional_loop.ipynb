{
 "cells": [
  {
   "cell_type": "markdown",
   "metadata": {},
   "source": [
    "# Task #1 - Number of Word"
   ]
  },
  {
   "cell_type": "markdown",
   "metadata": {},
   "source": [
    "Instruction:\n",
    "\n",
    "1.Create function called `number_of_word`.\n",
    "\n",
    "2.This function takes 1 input, `sentence`.\n",
    "\n",
    "3.Inside this function, you can utilize `.split()` method to split the sentence into list of word(s).\n",
    "\n",
    "4.Also, `len()` function to count the element inside a list.\n",
    "\n",
    "5.Return the number of word from the sentence.\n",
    "\n",
    "Example:\n",
    "\n",
    "Input: number_of_word(sentence = ’Hello World!’)\n",
    "\n",
    "Output: 2\n",
    "\n",
    "\n",
    "Input: number_of_word(sentence = ’Once Upon a Time in a faraway land’)\n",
    "\n",
    "Output: 8\n",
    "\n"
   ]
  },
  {
   "cell_type": "code",
   "execution_count": 32,
   "metadata": {},
   "outputs": [],
   "source": [
    "def number_of_word(str_sentences):\n",
    "    '''Function to count word(s) in sentences'''\n",
    "    count_word = str(len(str_sentences.split()))\n",
    "    print(\"Number of Word\" + \" : \" + count_word)"
   ]
  },
  {
   "cell_type": "code",
   "execution_count": 33,
   "metadata": {},
   "outputs": [
    {
     "name": "stdout",
     "output_type": "stream",
     "text": [
      "Number of Word : 2\n"
     ]
    }
   ],
   "source": [
    "number_of_word(\"Hello World!\")"
   ]
  },
  {
   "cell_type": "code",
   "execution_count": 34,
   "metadata": {},
   "outputs": [
    {
     "name": "stdout",
     "output_type": "stream",
     "text": [
      "Number of Word : 8\n"
     ]
    }
   ],
   "source": [
    "number_of_word(\"Once Upon a Time in a faraway land\")"
   ]
  },
  {
   "cell_type": "markdown",
   "metadata": {},
   "source": [
    "# Task #2 - Find Multiple"
   ]
  },
  {
   "cell_type": "markdown",
   "metadata": {},
   "source": [
    "Create a function that will get list of number(s) from a certain range that multiples of given number.\n",
    "\n",
    "Instruction:\n",
    "\n",
    "1.Create function called `find_multiples`.\n",
    "\n",
    "2.This function takes 3 input: `start_range`, `end_range`, and `multiple`.\n",
    "\n",
    "3.From every number within the given range, check if that number is the mutliples of `multiple`.\n",
    "\n",
    "4.Return list of the possible multiple number(s).\n",
    "\n",
    "Example:\n",
    "\n",
    "-Input: find_multiple(start_range= 1, end_range= 20, multiple= 5)\n",
    "\n",
    "-Output: [5, 10, 15, 20]\n",
    "\n",
    "-Input: find_multiple(start_range= 1, end_range= 50, multiple= 10)\n",
    "\n",
    "-Output: [10, 20, 30, 40, 50]\n",
    "\n"
   ]
  },
  {
   "cell_type": "code",
   "execution_count": 73,
   "metadata": {},
   "outputs": [],
   "source": [
    "def find_multiples(start_range, end_range, multiple):\n",
    "     '''Function to get list of number(s) from a certain range that multiples of given number'''\n",
    "     for i in range(start_range, end_range+1):\n",
    "            i = i * multiple\n",
    "            if i > end_range:\n",
    "                break\n",
    "            print(i)\n",
    "            \n"
   ]
  },
  {
   "cell_type": "code",
   "execution_count": 74,
   "metadata": {},
   "outputs": [
    {
     "name": "stdout",
     "output_type": "stream",
     "text": [
      "5\n",
      "10\n",
      "15\n",
      "20\n"
     ]
    }
   ],
   "source": [
    "find_multiples(1,20,5)"
   ]
  },
  {
   "cell_type": "code",
   "execution_count": 75,
   "metadata": {},
   "outputs": [
    {
     "name": "stdout",
     "output_type": "stream",
     "text": [
      "10\n",
      "20\n",
      "30\n",
      "40\n",
      "50\n"
     ]
    }
   ],
   "source": [
    "find_multiples(1,50,10)"
   ]
  },
  {
   "cell_type": "code",
   "execution_count": 76,
   "metadata": {},
   "outputs": [
    {
     "name": "stdout",
     "output_type": "stream",
     "text": [
      "1\n",
      "2\n",
      "3\n",
      "4\n",
      "5\n",
      "6\n",
      "7\n",
      "8\n",
      "9\n",
      "10\n"
     ]
    }
   ],
   "source": [
    "find_multiples(1,10,1)"
   ]
  },
  {
   "cell_type": "markdown",
   "metadata": {},
   "source": [
    "# Task #3 - Grade Converter"
   ]
  },
  {
   "cell_type": "markdown",
   "metadata": {},
   "source": [
    "Create a function that will convert student’s grade to GPA.\n",
    "\n",
    "Instruction:\n",
    "\n",
    "1.Create function called `Grade_Converter`.\n",
    "\n",
    "2.This function takes input: `convert_to` and n-paired of student(s) name with its respective score.\n",
    "\n",
    "3.Input argument for `convert_to` is either `letter_grade` or `gpa`.\n",
    "\n",
    "4.You can utilize **kwargs input argument to generate n-length paired of student(s) name with its respective score (Dictionary).\n",
    "\n",
    "5.This function will return dictionary of student’s name along with converted Letter Grade or GPA, depending on user input in `convert_to` parameter.\n",
    "\n",
    "Score\n",
    "\n",
    "85 - 100 A 4\n",
    "\n",
    "70 - 84.99 B 3\n",
    "\n",
    "60 - 69.99 C 2.5\n",
    "\n",
    "50 - 59.99 D 2\n",
    "\n",
    "40 - 49. 99 E 1.5\n",
    "\n",
    "0 - 39.99 F 1\n"
   ]
  },
  {
   "cell_type": "code",
   "execution_count": 197,
   "metadata": {},
   "outputs": [],
   "source": [
    "def Grade_Converter(convert_to = \"gpa\" or \"letter_grade\", **name_score):\n",
    "    if convert_to == \"gpa\":\n",
    "        for key, value in name_score.items():\n",
    "            if value >=85 and value <= 100:\n",
    "                print(key, \":\", 4)\n",
    "            elif value >= 70 and value <85:\n",
    "                print(key, \":\", 3)\n",
    "            elif value >= 60 and value <70:\n",
    "                print(key, \":\", 2.5)\n",
    "            elif value >= 50 and value <60:\n",
    "                print(key, \":\", 2)\n",
    "            elif value >= 40 and value <50:\n",
    "                print(key, \":\", 1.5)\n",
    "            elif value >=0 and value <40:\n",
    "                print(key, \":\", 1)\n",
    "    elif convert_to == \"letter_grade\":\n",
    "        for key, value in name_score.items():\n",
    "            if value >=85 and value <= 100:\n",
    "                print(key, \":\", \"A\")\n",
    "            elif value >= 70 and value <85:\n",
    "                print(key, \":\", \"B\")\n",
    "            elif value >= 60 and value <70:\n",
    "                print(key, \":\", \"C\")\n",
    "            elif value >= 50 and value <60:\n",
    "                print(key, \":\", \"D\")\n",
    "            elif value >= 40 and value <50:\n",
    "                print(key, \":\", \"E\")\n",
    "            elif value >=0 and value <40:\n",
    "                print(key, \":\", \"F\") \n",
    "\n",
    "\n"
   ]
  },
  {
   "cell_type": "code",
   "execution_count": 198,
   "metadata": {},
   "outputs": [
    {
     "name": "stdout",
     "output_type": "stream",
     "text": [
      "Adam : 2.5\n",
      "Faiz : 4\n"
     ]
    }
   ],
   "source": [
    "Grade_Converter(convert_to='gpa', Adam=62, Faiz=91)"
   ]
  },
  {
   "cell_type": "code",
   "execution_count": 199,
   "metadata": {},
   "outputs": [
    {
     "name": "stdout",
     "output_type": "stream",
     "text": [
      "Albert : A\n",
      "Dwi : B\n",
      "Syahdan : D\n",
      "Veronica : B\n"
     ]
    }
   ],
   "source": [
    "Grade_Converter(convert_to='letter_grade', Albert=90, Dwi=82, Syahdan=58, Veronica=84)"
   ]
  },
  {
   "cell_type": "markdown",
   "metadata": {},
   "source": [
    "# Task #4 - Fibonacci Sequence"
   ]
  },
  {
   "cell_type": "code",
   "execution_count": 250,
   "metadata": {},
   "outputs": [],
   "source": [
    "def my_function(n):\n",
    "    if n == 1:\n",
    "        return[1]\n",
    "    if n == 2:\n",
    "        return[1,1]\n",
    "    a=[1,1]\n",
    "    for i in range(2, n+1):\n",
    "        a.append(a[-1] + a[-2])\n",
    "    return a[n-1]\n"
   ]
  },
  {
   "cell_type": "code",
   "execution_count": 254,
   "metadata": {},
   "outputs": [
    {
     "data": {
      "text/plain": [
       "2"
      ]
     },
     "execution_count": 254,
     "metadata": {},
     "output_type": "execute_result"
    }
   ],
   "source": [
    "my_function(3)"
   ]
  },
  {
   "cell_type": "code",
   "execution_count": null,
   "metadata": {},
   "outputs": [],
   "source": []
  },
  {
   "cell_type": "code",
   "execution_count": null,
   "metadata": {},
   "outputs": [],
   "source": []
  }
 ],
 "metadata": {
  "kernelspec": {
   "display_name": "base",
   "language": "python",
   "name": "python3"
  },
  "language_info": {
   "codemirror_mode": {
    "name": "ipython",
    "version": 3
   },
   "file_extension": ".py",
   "mimetype": "text/x-python",
   "name": "python",
   "nbconvert_exporter": "python",
   "pygments_lexer": "ipython3",
   "version": "3.9.19"
  }
 },
 "nbformat": 4,
 "nbformat_minor": 2
}
